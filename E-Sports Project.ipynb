{
 "cells": [
  {
   "cell_type": "code",
   "execution_count": 1,
   "metadata": {
    "collapsed": true
   },
   "outputs": [],
   "source": [
    "import seedDataFetch"
   ]
  },
  {
   "cell_type": "code",
   "execution_count": 2,
   "metadata": {},
   "outputs": [
    {
     "name": "stdout",
     "output_type": "stream",
     "text": [
      "dict_values([0, 0, 0, 0])\n",
      "0\n"
     ]
    },
    {
     "data": {
      "text/plain": [
       "<matplotlib.text.Text at 0x22750292b70>"
      ]
     },
     "execution_count": 2,
     "metadata": {},
     "output_type": "execute_result"
    }
   ],
   "source": [
    "import numpy as numpy\n",
    "import pandas\n",
    "import scipy.stats as stats\n",
    "data = seedDataFetch.GetRiotData('test.txt')\n",
    "\n",
    "rawDataFrame = pandas.DataFrame(data)\n",
    "outcomeVsFirstBlood = numpy.zeros([1,2])\n",
    "\n",
    "wonGame = False\n",
    "firstBlood = False\n",
    "outcome = []\n",
    "firstBloodList = []\n",
    "totalFirstBlood = 0\n",
    "\n",
    "totalGames = 0\n",
    "firstObjectiveWins = {'Kill':0,'Tower':0,'Baron':0,'Dragon':0}\n",
    "print(firstObjectiveWins.values())\n",
    "firstObj=[0,0,0,0]\n",
    "chi2Values=[]\n",
    "firstObjective = 0\n",
    "bins = numpy.array([0.5, 1.0, 1.5, 2.0, 2.5, 3.0, 3.5, 4.0, 4.5,15.0])\n",
    "wins = numpy.zeros([1,len(bins)])\n",
    "totals = numpy.zeros([1,len(bins)])\n",
    "\n",
    "print(numpy.digitize(.1,bins))\n",
    "#inds = numpy.digitize(x, bins)\n",
    "count = 0\n",
    "notSupport = 0\n",
    "for x in range(0,len(rawDataFrame.index)):\n",
    "    for y in range(0,len(rawDataFrame.at[x,'matches'])):\n",
    "        if rawDataFrame.at[x,'matches'][y]['gameMode'] == 'CLASSIC':\n",
    "            if rawDataFrame.at[x,'matches'][y]['teams'][0]['win'] == 'Win':\n",
    "                wonGame = True\n",
    "            else:\n",
    "                wonGame = False\n",
    "            if wonGame == rawDataFrame.at[x,'matches'][y]['teams'][0]['firstBlood']:\n",
    "                firstObjectiveWins['Kill'] += 1\n",
    "            if wonGame == rawDataFrame.at[x,'matches'][y]['teams'][0]['firstTower']:\n",
    "                firstObjectiveWins['Tower'] += 1\n",
    "            if wonGame == rawDataFrame.at[x,'matches'][y]['teams'][0]['firstBaron']:\n",
    "                firstObjectiveWins['Baron'] += 1\n",
    "            if wonGame == rawDataFrame.at[x,'matches'][y]['teams'][0]['firstDragon']:\n",
    "                firstObjectiveWins['Dragon'] += 1\n",
    "        win = 'Win'\n",
    "        csDeltaAt10 = 0\n",
    "        for z in range(0,int(len(rawDataFrame.at[x,'matches'][y]['participants'])/2)):\n",
    "            if rawDataFrame.at[x,'matches'][y]['participants'][z]['timeline']['role']!='DUO_SUPPORT':\n",
    "                notSupport += 1\n",
    "                if rawDataFrame.at[x,'matches'][y]['participants'][z]['teamId'] == rawDataFrame.at[x,'matches'][y]['teams'][0]['teamId']:\n",
    "                    win = rawDataFrame.at[x,'matches'][y]['teams'][0]['win']\n",
    "                else:\n",
    "                    win = rawDataFrame.at[x,'matches'][y]['teams'][1]['win']\n",
    "                if win == 'Win' and 'csDiffPerMinDeltas' in rawDataFrame.at[x,'matches'][y]['participants'][z]['timeline'].keys(): \n",
    "                    if rawDataFrame.at[x,'matches'][y]['participants'][z]['timeline']['csDiffPerMinDeltas']['0-10'] > 0:\n",
    "                        csBin = numpy.digitize(rawDataFrame.at[x,'matches'][y]['participants'][z]['timeline']['csDiffPerMinDeltas']['0-10'], bins)\n",
    "                        wins[0,csBin] += 1\n",
    "                        totals[0,csBin] += 1\n",
    "                    else:\n",
    "                        csBin = numpy.digitize(abs(rawDataFrame.at[x,'matches'][y]['participants'][z]['timeline']['csDiffPerMinDeltas']['0-10']), bins)\n",
    "                        totals[0,csBin] += 1        \n",
    "                    count += 1\n",
    "        totalGames += 1\n",
    "\n",
    "\n",
    "\n",
    "\n",
    "chi2 = numpy.zeros([4,1])\n",
    "p =numpy.zeros([4,1])\n",
    "values = numpy.fromiter(firstObjectiveWins.values(), dtype = float)\n",
    "for x in range(0,len(values)):\n",
    "    chi2[x],p[x] = stats.chisquare([values[x]], [totalGames/2])\n",
    "\n",
    "\n",
    "import matplotlib.pyplot as pl\n",
    "# =============================================================================\n",
    "# \n",
    "# Uncomment this code to make first plot, chi-squared values for first objective - win correlation\n",
    "# \n",
    "# =============================================================================\n",
    "\n",
    "xticks=['Kill', 'Tower', 'Baron', 'Dragon']\n",
    "x=[1,2,3,4]\n",
    "pl.xlim(0.5,4.5)\n",
    "pl.ylim(10,85)\n",
    "pl.plot(x,chi2, 'bo')\n",
    "pl.xticks(x,firstObjectiveWins.keys())\n",
    "pl.ylabel(\"Chi-squared\", size=15)\n",
    "pl.xlabel(\"First Objective Secured\", size=15)\n",
    "pl.title(\"Game First Objectives Relevance\", size=20)\n",
    "\n",
    "# =============================================================================\n",
    "# \n",
    "# Uncomment this code to make second plot, win % against Cs/min deltas\n",
    "# \n",
    "# =============================================================================\n",
    "\n",
    "#winPercentage = numpy.divide(wins,totals)\n",
    "#bins = numpy.reshape(bins, winPercentage.shape)\n",
    "#bins = bins.reshape((10,))\n",
    "#winPercentage = winPercentage.reshape((10,))\n",
    "# \n",
    "#slope, intercept, r_value, p_value, std_err = stats.linregress(bins[:8],y=winPercentage[:8])\n",
    "#pl.xlim(0,5)\n",
    "#pl.ylim(0,1)\n",
    "#pl.plot(bins,winPercentage, 'bo', label = 'Data')\n",
    "#r2 = round((r_value*r_value),3)\n",
    "#pl.ylabel(\"Win %\", size=15)\n",
    "#pl.xlabel(\"CreepScore/min $\\Delta$, < 10 minutes\", size=15)\n",
    "#pl.plot(bins,bins*slope + intercept, 'r', label = 'Fit (r^2 = ' + str(r2) + ')')\n",
    "#pl.legend()\n",
    "#pl.show()\n"
   ]
  },
  {
   "cell_type": "code",
   "execution_count": null,
   "metadata": {
    "collapsed": true
   },
   "outputs": [],
   "source": []
  }
 ],
 "metadata": {
  "kernelspec": {
   "display_name": "Python 3",
   "language": "python",
   "name": "python3"
  },
  "language_info": {
   "codemirror_mode": {
    "name": "ipython",
    "version": 3
   },
   "file_extension": ".py",
   "mimetype": "text/x-python",
   "name": "python",
   "nbconvert_exporter": "python",
   "pygments_lexer": "ipython3",
   "version": "3.6.2"
  }
 },
 "nbformat": 4,
 "nbformat_minor": 2
}
