{
 "cells": [
  {
   "cell_type": "markdown",
   "metadata": {},
   "source": [
    "First, we import some tools, including a custom set of methods in 'seedDataFetch.py'"
   ]
  },
  {
   "cell_type": "code",
   "execution_count": 20,
   "metadata": {},
   "outputs": [],
   "source": [
    "import seedDataFetch\n",
    "import numpy as numpy\n",
    "import pandas\n",
    "import scipy.stats as stats\n",
    "import matplotlib.pyplot as pl\n",
    "%matplotlib inline"
   ]
  },
  {
   "cell_type": "markdown",
   "metadata": {},
   "source": [
    "Next, we need to fetch the seed data from Riot's Amazon S3 buckets. This takes a long time, so comment these lines out if you've already done it!"
   ]
  },
  {
   "cell_type": "code",
   "execution_count": 21,
   "metadata": {
    "collapsed": true
   },
   "outputs": [],
   "source": [
    "#seedDataFetch.FetchDataFromRiotS3()\n",
    "#seedDataFetch.WriteRiotDataToFile('projectData.txt')"
   ]
  },
  {
   "cell_type": "markdown",
   "metadata": {},
   "source": [
    "After fetching and sorting the data into a JSON formatted file, we read it into the program and load it into a DataFrame object."
   ]
  },
  {
   "cell_type": "code",
   "execution_count": 22,
   "metadata": {
    "collapsed": true
   },
   "outputs": [],
   "source": [
    "data = seedDataFetch.GetRiotData('test.txt')\n",
    "\n",
    "rawDataFrame = pandas.DataFrame(data)"
   ]
  },
  {
   "cell_type": "markdown",
   "metadata": {},
   "source": [
    "There are several important milestones that League of Legends players parse their performance with: first kill, first tower kill, first Baron, first Dragon. Let's look at how often these \"firsts\" result in a win, then perform a chi-squared test to see what sort of correlation there is between \"First X\" and winning."
   ]
  },
  {
   "cell_type": "code",
   "execution_count": 23,
   "metadata": {},
   "outputs": [
    {
     "data": {
      "image/png": "[encoded data removed]",
      "text/plain": [
       "<matplotlib.figure.Figure at 0x2275985c940>"
      ]
     },
     "metadata": {},
     "output_type": "display_data"
    }
   ],
   "source": [
    "outcomeVsFirstBlood = numpy.zeros([1,2])\n",
    "\n",
    "wonGame = False\n",
    "firstBlood = False\n",
    "outcome = []\n",
    "firstBloodList = []\n",
    "totalFirstBlood = 0\n",
    "\n",
    "totalGames = 0\n",
    "firstObjectiveWins = {'Kill':0,'Tower':0,'Baron':0,'Dragon':0}\n",
    "firstObj=[0,0,0,0]\n",
    "chi2Values=[]\n",
    "firstObjective = 0\n",
    "bins = numpy.array([0.5, 1.0, 1.5, 2.0, 2.5, 3.0, 3.5, 4.0, 4.5,15.0])\n",
    "wins = numpy.zeros([1,len(bins)])\n",
    "totals = numpy.zeros([1,len(bins)])\n",
    "\n",
    "for x in range(0,len(rawDataFrame.index)):\n",
    "    for y in range(0,len(rawDataFrame.at[x,'matches'])):\n",
    "        if rawDataFrame.at[x,'matches'][y]['gameMode'] == 'CLASSIC':\n",
    "            if rawDataFrame.at[x,'matches'][y]['teams'][0]['win'] == 'Win':\n",
    "                wonGame = True\n",
    "            else:\n",
    "                wonGame = False\n",
    "            if wonGame == rawDataFrame.at[x,'matches'][y]['teams'][0]['firstBlood']:\n",
    "                firstObjectiveWins['Kill'] += 1\n",
    "            if wonGame == rawDataFrame.at[x,'matches'][y]['teams'][0]['firstTower']:\n",
    "                firstObjectiveWins['Tower'] += 1\n",
    "            if wonGame == rawDataFrame.at[x,'matches'][y]['teams'][0]['firstBaron']:\n",
    "                firstObjectiveWins['Baron'] += 1\n",
    "            if wonGame == rawDataFrame.at[x,'matches'][y]['teams'][0]['firstDragon']:\n",
    "                firstObjectiveWins['Dragon'] += 1\n",
    "        win = 'Win'\n",
    "        csDeltaAt10 = 0\n",
    "        for z in range(0,int(len(rawDataFrame.at[x,'matches'][y]['participants'])/2)):\n",
    "            if rawDataFrame.at[x,'matches'][y]['participants'][z]['timeline']['role']!='DUO_SUPPORT':\n",
    "                notSupport += 1\n",
    "                if rawDataFrame.at[x,'matches'][y]['participants'][z]['teamId'] == rawDataFrame.at[x,'matches'][y]['teams'][0]['teamId']:\n",
    "                    win = rawDataFrame.at[x,'matches'][y]['teams'][0]['win']\n",
    "                else:\n",
    "                    win = rawDataFrame.at[x,'matches'][y]['teams'][1]['win']\n",
    "                if win == 'Win' and 'csDiffPerMinDeltas' in rawDataFrame.at[x,'matches'][y]['participants'][z]['timeline'].keys(): \n",
    "                    if rawDataFrame.at[x,'matches'][y]['participants'][z]['timeline']['csDiffPerMinDeltas']['0-10'] > 0:\n",
    "                        csBin = numpy.digitize(rawDataFrame.at[x,'matches'][y]['participants'][z]['timeline']['csDiffPerMinDeltas']['0-10'], bins)\n",
    "                        wins[0,csBin] += 1\n",
    "                        totals[0,csBin] += 1\n",
    "                    else:\n",
    "                        csBin = numpy.digitize(abs(rawDataFrame.at[x,'matches'][y]['participants'][z]['timeline']['csDiffPerMinDeltas']['0-10']), bins)\n",
    "                        totals[0,csBin] += 1        \n",
    "        totalGames += 1\n",
    "\n",
    "\n",
    "\n",
    "\n",
    "chi2 = numpy.zeros([4,1])\n",
    "p =numpy.zeros([4,1])\n",
    "values = numpy.fromiter(firstObjectiveWins.values(), dtype = float)\n",
    "for x in range(0,len(values)):\n",
    "    chi2[x],p[x] = stats.chisquare([values[x]], [totalGames/2])\n",
    "\n",
    "\n",
    "xticks=['Kill', 'Tower', 'Baron', 'Dragon']\n",
    "x=[1,2,3,4]\n",
    "pl.xlim(0.5,4.5)\n",
    "pl.ylim(10,85)\n",
    "pl.plot(x,chi2, 'bo')\n",
    "pl.xticks(x,firstObjectiveWins.keys())\n",
    "pl.ylabel(\"Chi-squared\", size=15)\n",
    "pl.xlabel(\"First Objective Secured\", size=15)\n",
    "pl.title(\"Game First Objectives Relevance\", size=20)\n",
    "pl.show()\n"
   ]
  },
  {
   "cell_type": "markdown",
   "metadata": {},
   "source": [
    "Above, we interpret the Chi-squared values as qualitative \"importance\" - killing the first Baron or Tower are more important than killing the first player or Dragon.\n",
    "\n",
    "Next, we look at win percentage against CreepScore/min deltas over the first ten minutes of the game. In other words, we want to see how important it is to gain a large CreepScore lead over your opponent early in the game."
   ]
  },
  {
   "cell_type": "code",
   "execution_count": 24,
   "metadata": {},
   "outputs": [
    {
     "data": {
      "image/png": "[encoded data removed]",
      "text/plain": [
       "<matplotlib.figure.Figure at 0x22759662780>"
      ]
     },
     "metadata": {},
     "output_type": "display_data"
    }
   ],
   "source": [
    "winPercentage = numpy.divide(wins,totals)\n",
    "winError = numpy.divide(numpy.sqrt(wins),totals)\n",
    "\n",
    "bins = numpy.reshape(bins, winPercentage.shape)\n",
    "bins = bins.reshape((10,))\n",
    "winPercentage = winPercentage.reshape((10,))\n",
    "winError = winError.reshape((10,))\n",
    " \n",
    "\n",
    "slope, intercept, r_value, p_value, std_err = stats.linregress(bins[:8],y=winPercentage[:8])\n",
    "pl.xlim(0,5)\n",
    "pl.ylim(0,1)\n",
    "pl.errorbar(bins,winPercentage,xerr=0,yerr=winError,fmt='bo', label = 'Data')\n",
    "r2 = round((r_value*r_value),3)\n",
    "pl.ylabel(\"Win %\", size=15)\n",
    "pl.xlabel(\"CreepScore/min $\\Delta$, < 10 minutes\", size=15)\n",
    "pl.plot(bins,bins*slope + intercept, 'r', label = 'Fit (r^2 = ' + str(r2) + ')')\n",
    "pl.legend()\n",
    "pl.show()"
   ]
  },
  {
   "cell_type": "markdown",
   "metadata": {},
   "source": [
    "It looks like establishing an early CreepScore lead moves Win % above 50% - though for large values of CS/min, we don't have enough data to be confident in those measurements."
   ]
  },
  {
   "cell_type": "code",
   "execution_count": null,
   "metadata": {
    "collapsed": true
   },
   "outputs": [],
   "source": []
  }
 ],
 "metadata": {
  "kernelspec": {
   "display_name": "Python 3",
   "language": "python",
   "name": "python3"
  },
  "language_info": {
   "codemirror_mode": {
    "name": "ipython",
    "version": 3
   },
   "file_extension": ".py",
   "mimetype": "text/x-python",
   "name": "python",
   "nbconvert_exporter": "python",
   "pygments_lexer": "ipython3",
   "version": "3.6.2"
  }
 },
 "nbformat": 4,
 "nbformat_minor": 2
}
